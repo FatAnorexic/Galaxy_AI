{
 "cells": [
  {
   "cell_type": "code",
   "execution_count": 1,
   "metadata": {},
   "outputs": [],
   "source": [
    "from astroNN.datasets import galaxy10sdss\n",
    "from astroNN.datasets.galaxy10 import galaxy10cls_lookup\n",
    "import pandas as pd\n",
    "import seaborn as sns\n",
    "import numpy as np\n",
    "from keras import utils\n",
    "from sklearn.model_selection import train_test_split\n",
    "from sklearn.metrics import classification_report, confusion_matrix\n",
    "import matplotlib.pyplot as plt\n",
    "import torch\n",
    "from torch.utils.data import DataLoader\n",
    "from torchvision.transforms import ToTensor\n",
    "from torch.utils.data import Dataset\n",
    "import torchvision.transforms as transform\n",
    "\n",
    "\n"
   ]
  },
  {
   "cell_type": "code",
   "execution_count": 223,
   "metadata": {},
   "outputs": [
    {
     "name": "stdout",
     "output_type": "stream",
     "text": [
      "C:\\Users\\Alexb\\.astroNN\\datasets\\Galaxy10.h5 was found!\n"
     ]
    }
   ],
   "source": [
    "images, labels=galaxy10sdss.load_data()\n",
    "\n",
    "images=images.astype(np.float32)\n",
    "Gal_train, Gal_test, lab_train, lab_test=train_test_split(images, labels, test_size=0.2)\n",
    "Gal_train=Gal_train/255.0\n",
    "Gal_test=Gal_test/255.0"
   ]
  },
  {
   "cell_type": "code",
   "execution_count": 224,
   "metadata": {},
   "outputs": [
    {
     "data": {
      "text/plain": [
       "((17428, 69, 69, 3), (4357, 69, 69, 3), (17428,), (4357,))"
      ]
     },
     "execution_count": 224,
     "metadata": {},
     "output_type": "execute_result"
    }
   ],
   "source": [
    "Gal_train.shape, Gal_test.shape, lab_train.shape, lab_test.shape"
   ]
  },
  {
   "cell_type": "code",
   "execution_count": 225,
   "metadata": {},
   "outputs": [
    {
     "name": "stdout",
     "output_type": "stream",
     "text": [
      "Disk, Face-on, No Spiral\n",
      "Smooth, Completely round\n",
      "Smooth, in-between round\n",
      "Smooth, Cigar shaped\n",
      "Disk, Edge-on, Rounded Bulge\n",
      "Disk, Edge-on, Boxy Bulge\n",
      "Disk, Edge-on, No Bulge\n",
      "Disk, Face-on, Tight Spiral\n",
      "Disk, Face-on, Medium Spiral\n",
      "Disk, Face-on, Loose Spiral\n"
     ]
    }
   ],
   "source": [
    "\n",
    "features=[x for x in galaxy10sdss.Galaxy10Class.values()]\n",
    "    \n",
    "for x in features:\n",
    "    print(x)"
   ]
  },
  {
   "cell_type": "code",
   "execution_count": 235,
   "metadata": {},
   "outputs": [],
   "source": [
    "Ntransform=transform.Compose([transform.ToTensor()])"
   ]
  },
  {
   "cell_type": "code",
   "execution_count": 236,
   "metadata": {},
   "outputs": [],
   "source": [
    "class Gal10Dataset(Dataset):\n",
    "    def __init__(self, gal_data, labels, transform=None):\n",
    "        self.gal_data=gal_data\n",
    "        self.labels=labels\n",
    "        self.transform=transform\n",
    "    def __len__(self):\n",
    "        return len(self.gal_data)\n",
    "    def __getitem__(self,idx):\n",
    "        sample=self.gal_data[idx]\n",
    "        label=self.labels[idx]\n",
    "        if self.transform:\n",
    "            sample=self.transform(sample)\n",
    "        return sample, label"
   ]
  },
  {
   "cell_type": "code",
   "execution_count": 238,
   "metadata": {},
   "outputs": [
    {
     "name": "stdout",
     "output_type": "stream",
     "text": [
      "tensor([0.0909]) tensor([0.1266])\n"
     ]
    }
   ],
   "source": [
    "train_set=Gal10Dataset(Gal_train, lab_train, transform=Ntransform)\n",
    "test_set=Gal10Dataset(Gal_test,lab_test, transform=Ntransform)\n",
    "\n",
    "imgs=torch.stack([img for img, _ in train_set], dim=0)\n",
    "mean=imgs.view(1, -1).mean(dim=1)\n",
    "std=imgs.view(1, -1).std(dim=1)\n",
    "print(mean, std)\n",
    "\n",
    "resize_norm=transform.Compose([transform.ToTensor(), transform.Resize((32, 32)), transform.Normalize(mean=mean, std=std)])\n",
    "\n",
    "train_set=Gal10Dataset(Gal_train, lab_train, transform=resize_norm)\n",
    "test_set=Gal10Dataset(Gal_test, lab_test, transform=resize_norm)\n",
    "\n",
    "train_loader=DataLoader(train_set, batch_size=64, shuffle=True)\n",
    "test_loader=DataLoader(test_set, batch_size=64, shuffle=True)"
   ]
  },
  {
   "cell_type": "code",
   "execution_count": 242,
   "metadata": {},
   "outputs": [
    {
     "data": {
      "text/plain": [
       "(273, 69)"
      ]
     },
     "execution_count": 242,
     "metadata": {},
     "output_type": "execute_result"
    }
   ],
   "source": [
    "len(train_loader), len(test_loader)"
   ]
  },
  {
   "cell_type": "code",
   "execution_count": 239,
   "metadata": {},
   "outputs": [
    {
     "name": "stdout",
     "output_type": "stream",
     "text": [
      "<torch.utils.data.dataloader.DataLoader object at 0x000002770881F880>\n",
      "17428\n",
      "273\n",
      "64\n",
      "torch.Size([64, 3, 32, 32]) torch.float32 torch.Size([64])\n"
     ]
    }
   ],
   "source": [
    "print(train_loader)\n",
    "print(len(train_loader.dataset))\n",
    "print(len(train_loader))\n",
    "print(train_loader.batch_size)\n",
    "for x, y in train_loader:\n",
    "    print(x.shape, x.dtype, y.shape)\n",
    "    break"
   ]
  },
  {
   "cell_type": "code",
   "execution_count": 240,
   "metadata": {},
   "outputs": [
    {
     "name": "stdout",
     "output_type": "stream",
     "text": [
      "torch.Size([64, 3, 32, 32]) torch.float32\n",
      "torch.Size([64]) torch.uint8\n"
     ]
    }
   ],
   "source": [
    "for images, labels in train_loader:\n",
    "    print(images.shape, images.dtype)\n",
    "    print(labels.shape, labels.dtype)\n",
    "    break"
   ]
  },
  {
   "cell_type": "code",
   "execution_count": null,
   "metadata": {},
   "outputs": [],
   "source": [
    "\n",
    "fig, axs=plt.subplots(10, 2, figsize=(16,16))\n",
    "for i in range(10):\n",
    "    axs[i, 0].imshow(train_loader.dataset[i][0][0], cmap='gray')\n",
    "    axs[i, 1].imshow(Gal_train[i], cmap='gray')"
   ]
  },
  {
   "cell_type": "code",
   "execution_count": 208,
   "metadata": {},
   "outputs": [],
   "source": [
    "#The convolutional NN\n",
    "import torch.nn as nn\n",
    "class LeNet5(nn.Module):\n",
    "    def __init__(self, num_classes):\n",
    "        super().__init__()\n",
    "        self.num_class=num_classes\n",
    "        self.feature=nn.Sequential(\n",
    "            nn.Conv2d(in_channels=3, out_channels=6, kernel_size=5, stride=1, padding=0),\n",
    "            nn.Tanh(),\n",
    "            nn.AvgPool2d(kernel_size=2, stride=2),\n",
    "            \n",
    "            nn.Conv2d(in_channels=6, out_channels=16, kernel_size=5, stride=1, padding=0),\n",
    "            nn.Tanh(),\n",
    "            nn.AvgPool2d(kernel_size=2, stride=2)\n",
    "        )\n",
    "        self.classifier=nn.Sequential(\n",
    "            nn.Flatten(),\n",
    "            nn.Linear(in_features=16*5*5, out_features=120),\n",
    "            nn.Tanh(),\n",
    "            nn.Linear(in_features=120, out_features=84),\n",
    "            nn.Tanh(),\n",
    "            nn.Linear(in_features=84, out_features=self.num_class)\n",
    "        )\n",
    "        \n",
    "    \n",
    "    def forward(self, x):\n",
    "        return self.classifier(self.feature(x))"
   ]
  },
  {
   "cell_type": "code",
   "execution_count": 209,
   "metadata": {},
   "outputs": [
    {
     "name": "stdout",
     "output_type": "stream",
     "text": [
      "cuda\n"
     ]
    }
   ],
   "source": [
    "device=(\n",
    "    \"cuda\" if torch.cuda.is_available()\n",
    "    else \"mps\" if torch.backends.mps.is_available()\n",
    "    else \"cpu\"\n",
    ")\n",
    "print(device)"
   ]
  },
  {
   "cell_type": "code",
   "execution_count": 253,
   "metadata": {},
   "outputs": [
    {
     "data": {
      "text/plain": [
       "========================================================================================================================\n",
       "Layer (type (var_name))                  Input Shape          Output Shape         Param #              Trainable\n",
       "========================================================================================================================\n",
       "LeNet5 (LeNet5)                          [1, 3, 32, 32]       [1, 10]              --                   True\n",
       "├─Sequential (feature)                   [1, 3, 32, 32]       [1, 16, 5, 5]        --                   True\n",
       "│    └─Conv2d (0)                        [1, 3, 32, 32]       [1, 6, 28, 28]       456                  True\n",
       "│    └─Tanh (1)                          [1, 6, 28, 28]       [1, 6, 28, 28]       --                   --\n",
       "│    └─AvgPool2d (2)                     [1, 6, 28, 28]       [1, 6, 14, 14]       --                   --\n",
       "│    └─Conv2d (3)                        [1, 6, 14, 14]       [1, 16, 10, 10]      2,416                True\n",
       "│    └─Tanh (4)                          [1, 16, 10, 10]      [1, 16, 10, 10]      --                   --\n",
       "│    └─AvgPool2d (5)                     [1, 16, 10, 10]      [1, 16, 5, 5]        --                   --\n",
       "├─Sequential (classifier)                [1, 16, 5, 5]        [1, 10]              --                   True\n",
       "│    └─Flatten (0)                       [1, 16, 5, 5]        [1, 400]             --                   --\n",
       "│    └─Linear (1)                        [1, 400]             [1, 120]             48,120               True\n",
       "│    └─Tanh (2)                          [1, 120]             [1, 120]             --                   --\n",
       "│    └─Linear (3)                        [1, 120]             [1, 84]              10,164               True\n",
       "│    └─Tanh (4)                          [1, 84]              [1, 84]              --                   --\n",
       "│    └─Linear (5)                        [1, 84]              [1, 10]              850                  True\n",
       "========================================================================================================================\n",
       "Total params: 62,006\n",
       "Trainable params: 62,006\n",
       "Non-trainable params: 0\n",
       "Total mult-adds (M): 0.66\n",
       "========================================================================================================================\n",
       "Input size (MB): 0.01\n",
       "Forward/backward pass size (MB): 0.05\n",
       "Params size (MB): 0.25\n",
       "Estimated Total Size (MB): 0.31\n",
       "========================================================================================================================"
      ]
     },
     "execution_count": 253,
     "metadata": {},
     "output_type": "execute_result"
    }
   ],
   "source": [
    "from torchinfo import summary\n",
    "model=LeNet5(10)\n",
    "summary(model=model, input_size=(1, 3, 32, 32), col_width=20,\n",
    "        col_names=['input_size', 'output_size', 'num_params', 'trainable'], row_settings=['var_names'], verbose=0)"
   ]
  },
  {
   "cell_type": "code",
   "execution_count": 189,
   "metadata": {},
   "outputs": [],
   "source": [
    "num_features=len(features)\n",
    "learning_rate=0.001\n",
    "epochs=10\n",
    "\n",
    "model=LeNet5(num_classes=num_features).to(device=device)\n",
    "loss_fn=nn.CrossEntropyLoss()\n",
    "\n",
    "optim=torch.optim.Adam(model.parameters(),lr=learning_rate)\n",
    "\n",
    "total_steps=len(train_loader)"
   ]
  }
 ],
 "metadata": {
  "kernelspec": {
   "display_name": ".venv",
   "language": "python",
   "name": "python3"
  },
  "language_info": {
   "codemirror_mode": {
    "name": "ipython",
    "version": 3
   },
   "file_extension": ".py",
   "mimetype": "text/x-python",
   "name": "python",
   "nbconvert_exporter": "python",
   "pygments_lexer": "ipython3",
   "version": "3.9.13"
  }
 },
 "nbformat": 4,
 "nbformat_minor": 2
}
